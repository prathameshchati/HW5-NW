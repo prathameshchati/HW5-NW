{
 "cells": [
  {
   "cell_type": "code",
   "execution_count": 93,
   "metadata": {},
   "outputs": [],
   "source": [
    "import numpy as np\n",
    "import pandas as pd\n",
    "import Bio\n",
    "from Bio import pairwise2\n",
    "from Bio.pairwise2 import format_alignment\n",
    "from Bio.Align import substitution_matrices\n",
    "from Bio import Align\n",
    "from minineedle import needle, smith, core\n",
    "from align import NeedlemanWunsch, read_fasta\n",
    "import os\n",
    "import difflib\n"
   ]
  },
  {
   "cell_type": "markdown",
   "metadata": {},
   "source": [
    "__Test with implemented version__"
   ]
  },
  {
   "cell_type": "code",
   "execution_count": 2,
   "metadata": {},
   "outputs": [
    {
     "name": "stdout",
     "output_type": "stream",
     "text": [
      "3682.0\n",
      "3173.0\n",
      "2941.0\n",
      "3916.0\n"
     ]
    }
   ],
   "source": [
    "# create instance\n",
    "gap_open=-10\n",
    "gap_extend=-1\n",
    "nw=NeedlemanWunsch(\"./substitution_matrices/BLOSUM62.mat\", gap_open, gap_extend)\n",
    "\n",
    "# get sequences\n",
    "human_brd2=read_fasta(\"data/Homo_sapiens_BRD2.fa\")[0]\n",
    "mus_brd2=read_fasta(\"data/Mus_musculus_BRD2.fa\")[0]\n",
    "gallus_brd2=read_fasta(\"data/Gallus_gallus_BRD2.fa\")[0]\n",
    "bal_brd2=read_fasta(\"data/Balaeniceps_rex_BRD2.fa\")[0]\n",
    "tur_brd2=read_fasta(\"data/Tursiops_truncatus_BRD2.fa\")[0]\n",
    "\n",
    "# get scores\n",
    "print(nw.align(human_brd2, mus_brd2)[0])\n",
    "print(nw.align(human_brd2, gallus_brd2)[0])\n",
    "print(nw.align(human_brd2, bal_brd2)[0])\n",
    "print(nw.align(human_brd2, tur_brd2)[0])\n",
    "\n",
    "# print(s1[0],s2[0],s3[0],s4[0])"
   ]
  },
  {
   "cell_type": "code",
   "execution_count": 3,
   "metadata": {},
   "outputs": [
    {
     "name": "stdout",
     "output_type": "stream",
     "text": [
      "3682.0\n",
      "3173.0\n",
      "2941.0\n",
      "3916.0\n"
     ]
    }
   ],
   "source": [
    "s1=pairwise2.align.globalds(human_brd2, mus_brd2, nw.sub_dict, gap_open+gap_extend, gap_extend)\n",
    "s2=pairwise2.align.globalds(human_brd2, gallus_brd2, nw.sub_dict, gap_open+gap_extend, gap_extend)\n",
    "s3=pairwise2.align.globalds(human_brd2, bal_brd2, nw.sub_dict, gap_open+gap_extend, gap_extend)\n",
    "s4=pairwise2.align.globalds(human_brd2, tur_brd2, nw.sub_dict, gap_open+gap_extend, gap_extend)\n",
    "\n",
    "print(s1[0].score)\n",
    "print(s2[0].score)\n",
    "print(s3[0].score)\n",
    "print(s4[0].score)"
   ]
  },
  {
   "cell_type": "code",
   "execution_count": 58,
   "metadata": {},
   "outputs": [],
   "source": [
    "# read fasta sequences\n",
    "hs_seq, hs_header = read_fasta(\"./data/Homo_sapiens_BRD2.fa\")\n",
    "gg_seq, gg_header = read_fasta(\"./data/Gallus_gallus_BRD2.fa\")\n",
    "\n",
    "# create instance\n",
    "gap_open=-10\n",
    "gap_extend=-1\n",
    "nw=NeedlemanWunsch(\"./substitution_matrices/BLOSUM62.mat\", gap_open, gap_extend)\n",
    "\n",
    "# score\n",
    "hs_gg=nw.align(hs_seq, gg_seq)\n",
    "\n",
    "# run pairwise2\n",
    "hs_gg_pw2=pairwise2.align.globalds(hs_seq, gg_seq, nw.sub_dict, gap_open+gap_extend, gap_extend)\n"
   ]
  },
  {
   "cell_type": "code",
   "execution_count": 17,
   "metadata": {},
   "outputs": [
    {
     "name": "stdout",
     "output_type": "stream",
     "text": [
      "17.0\n",
      "4.0\n"
     ]
    },
    {
     "data": {
      "text/plain": [
       "4.0"
      ]
     },
     "execution_count": 17,
     "metadata": {},
     "output_type": "execute_result"
    }
   ],
   "source": [
    "# for small sequences\n",
    "seq1=\"MAVHQLIRRP\" # test_seq3.fa\n",
    "seq2=\"MQLIRHP\" # test_seq4.fa\n",
    "print(nw.align(seq1, seq2)[0])\n",
    "\n",
    "seq1=\"MYQR\"\n",
    "seq2=\"MQR\"\n",
    "print(nw.align(seq1, seq2)[0])\n",
    "\n",
    "alignments=pairwise2.align.globalds(seq1, seq2, nw.sub_dict, gap_open+gap_extend, gap_extend)\n",
    "alignments[0].seqA\n",
    "alignments[0].seqB\n",
    "alignments[0].score\n",
    "\n",
    "nw._align_matrix[len(seq2)][len(seq1)]\n"
   ]
  },
  {
   "cell_type": "code",
   "execution_count": 44,
   "metadata": {},
   "outputs": [],
   "source": [
    "aligner=Align.PairwiseAligner()\n",
    "aligner.open_gap_score=gap_open+gap_extend\n",
    "aligner.extend_gap_score=gap_extend\n",
    "aligner.substitution_matrix=substitution_matrices.load(\"BLOSUM62\") \n",
    "alignments=aligner.align(seq1, seq2)\n",
    "alignments=list(alignments)\n"
   ]
  },
  {
   "cell_type": "markdown",
   "metadata": {},
   "source": [
    "__Initialization__"
   ]
  },
  {
   "cell_type": "code",
   "execution_count": 382,
   "metadata": {},
   "outputs": [],
   "source": [
    "# example from provided video\n",
    "# seq1=\"ACACT\" # y sequence\n",
    "# seq2=\"AAT\" # x sequence\n",
    "\n",
    "# gap open (h) and extension (g) penalties \n",
    "# gap_open=-3\n",
    "# gap_extend=-1\n",
    "\n",
    "\n",
    "# extraneous case\n",
    "# seq1=\"ACAATCT\" # y sequence\n",
    "# seq2=\"AAT\" # x sequence\n",
    "\n",
    "# from provided files\n",
    "# seq1=\"MAVHQLIRRP\" # test_seq3.fa\n",
    "# seq2=\"MQLIRHP\" # test_seq4.fa\n",
    "\n",
    "seq2=\"MYQR\"\n",
    "seq1=\"MQR\"\n",
    "\n",
    "# gap open (h) and extension (g) penalties \n",
    "gap_open=-10\n",
    "gap_extend=-1\n",
    "\n",
    "\n",
    "# initialize align matrix as mat of zeroes\n",
    "align_matrix=np.zeros((len(seq2)+1, len(seq1)+1))\n",
    "gapA_matrix=np.zeros((len(seq2)+1, len(seq1)+1))\n",
    "gapB_matrix=np.zeros((len(seq2)+1, len(seq1)+1))"
   ]
  },
  {
   "cell_type": "code",
   "execution_count": 383,
   "metadata": {},
   "outputs": [],
   "source": [
    "# initialize values\n",
    "\n",
    "# first row and col of align matrix are -inf\n",
    "\n",
    "# first row of align matrix\n",
    "for j in (range(len(seq1)+1)):\n",
    "    # align_matrix[0][j]=-np.inf\n",
    "    align_matrix[0][j]=gap_open+gap_extend*j\n",
    "\n",
    "# first column of align matrix\n",
    "for i in (range(len(seq2)+1)):\n",
    "    # align_matrix[i][0]=-np.inf\n",
    "    align_matrix[i][0]=gap_open+gap_extend*i\n",
    "\n",
    "# M(0,0)=0\n",
    "align_matrix[0][0]=0\n",
    "\n",
    "# first row of gapA\n",
    "for j in (range(len(seq1)+1)):\n",
    "    # gapA_matrix[0][j]=-np.inf\n",
    "    gapA_matrix[0][j]=gap_open+gap_extend*j\n",
    "\n",
    "# first column of gapA\n",
    "for i in (range(len(seq2)+1)):\n",
    "    gapA_matrix[i][0]=gap_open+gap_extend*i\n",
    "\n",
    "# first column of gapB\n",
    "for i in (range(len(seq2)+1)):\n",
    "    # gapB_matrix[i][0]=-np.inf\n",
    "    gapB_matrix[i][0]=gap_open+gap_extend*i\n",
    "\n",
    "# first row of gapB\n",
    "for j in (range(len(seq1)+1)):\n",
    "    gapB_matrix[0][j]=gap_open+gap_extend*j \n",
    "\n",
    "\n",
    "# ADDED AFTER CHANGING -INF TO GAP OPEN OR EXTEND\n",
    "# gapA_matrix[0][0]=0\n",
    "# gapB_matrix[0][0]=0"
   ]
  },
  {
   "cell_type": "markdown",
   "metadata": {},
   "source": [
    "__Alignmente Functions__\n",
    "\n",
    " - Functions were defined based on provided video [here](https://www.youtube.com/watch?v=NqYY0PJbD3s)."
   ]
  },
  {
   "cell_type": "code",
   "execution_count": 386,
   "metadata": {},
   "outputs": [],
   "source": [
    "# def score(b1, b2):\n",
    "#     s=-1\n",
    "#     if (b1==b2):\n",
    "#         s=1\n",
    "#     return s\n",
    "\n",
    "# ALTERNATE SCORE FUNCTION\n",
    "\n",
    "def score(b1, b2):\n",
    "    s=nw.sub_dict[(b1,b2)]\n",
    "    return s\n",
    "\n",
    "def fill_M(align_matrix, gapA_matrix, gapB_matrix, i, j, seq1, seq2):\n",
    "    M=align_matrix[i-1][j-1]+score(seq2[i-1], seq1[j-1])\n",
    "    Ix=gapA_matrix[i-1][j-1]+score(seq2[i-1], seq1[j-1])\n",
    "    Iy=gapB_matrix[i-1][j-1]+score(seq2[i-1], seq1[j-1])\n",
    "    return max(M, Ix, Iy)\n",
    "\n",
    "def fill_Ix(align_matrix, gapA_matrix, i, j, gap_open, gap_extend):\n",
    "    M=align_matrix[i-1][j]+gap_open+gap_extend\n",
    "    Ix=gapA_matrix[i-1][j]+gap_extend\n",
    "    return max(M, Ix)\n",
    "\n",
    "def fill_Iy(align_matrix, gapB_matrix, i, j, gap_open, gap_extend):\n",
    "    M=align_matrix[i][j-1]+gap_open+gap_extend\n",
    "    Iy=gapB_matrix[i][j-1]+gap_extend\n",
    "    return max(M, Iy)\n",
    "\n",
    "def fill_alignment_matrix(align_matrix, gapA_matrix, gapB_matrix, i, j, seq1, seq2, gap_open, gap_extend):\n",
    "    Mij=fill_M(align_matrix, gapA_matrix, gapB_matrix, i, j, seq1, seq2)\n",
    "    Ixij=fill_Ix(align_matrix, gapA_matrix, i, j, gap_open, gap_extend)\n",
    "    Iyij=fill_Iy(align_matrix, gapB_matrix, i, j, gap_open, gap_extend)\n",
    "    return Mij, Ixij, Iyij"
   ]
  },
  {
   "cell_type": "code",
   "execution_count": 387,
   "metadata": {},
   "outputs": [],
   "source": [
    "# loop through indices of matrices\n",
    "for i in range(1, len(seq2)+1):\n",
    "    for j in range(1, len(seq1)+1):\n",
    "        # print(i,j)\n",
    "        align_matrix[i][j], gapA_matrix[i][j], gapB_matrix[i][j]=fill_alignment_matrix(align_matrix, gapA_matrix, gapB_matrix, i, j, seq1, seq2, gap_open, gap_extend)"
   ]
  },
  {
   "cell_type": "code",
   "execution_count": 388,
   "metadata": {},
   "outputs": [
    {
     "data": {
      "text/plain": [
       "array([[  0., -11., -12., -13.],\n",
       "       [-11.,   5., -11., -13.],\n",
       "       [-12., -12.,   4.,  -8.],\n",
       "       [-13., -12.,  -1.,   5.],\n",
       "       [-14., -14.,  -6.,   4.]])"
      ]
     },
     "execution_count": 388,
     "metadata": {},
     "output_type": "execute_result"
    }
   ],
   "source": [
    "\n",
    "gapA_matrix\n",
    "gapB_matrix\n",
    "align_matrix\n",
    "\n",
    "# fill_M(align_matrix, gapA_matrix, gapB_matrix, 1, 1, seq1, seq2)"
   ]
  },
  {
   "cell_type": "markdown",
   "metadata": {},
   "source": [
    "__Backtracing Functions__\n",
    "\n",
    " - Begin at the bottom right of the matrix and find the largest value among M, Ix, and Iy. \n",
    " - If M is the largest value, we go left and up; if Ix is the largest we go up; and if Iy is the largest we go left.\n",
    " - Stop at top left of the matrix - (0,0)."
   ]
  },
  {
   "cell_type": "code",
   "execution_count": 313,
   "metadata": {},
   "outputs": [],
   "source": [
    "# for the values across all three matrices at (i,j), get the max, and return an update vector that describes where to move\n",
    "def get_next_move(align_matrix, gapA_matrix, gapB_matrix, i, j):\n",
    "    mat_values={\"M\":align_matrix[i][j], \"Ix\":gapA_matrix[i][j], \"Iy\":gapB_matrix[i][j]}\n",
    "    max_key=max(mat_values, key=mat_values.get)\n",
    "    # check if there are multiple max values\n",
    "    max_key_list=[key for key,val in mat_values.items() if val==mat_values[max_key]]\n",
    "    return max_key_list\n",
    "\n",
    "def query_sub_dict(match_val , mismatch_val, s1, s2, mtype=\"m\", subdict={}): # mtypes: m, mm, sub - match, mismatch, substition\n",
    "    if (mtype==\"m\"):\n",
    "        return match_val\n",
    "    if (mtype==\"mm\"):\n",
    "        return mismatch_val\n",
    "    if (mtype==\"sub\"):\n",
    "        return subdict[(s1,s2)]\n",
    "\n",
    "# WE MAY HAVE TO CHANGE SCORE FUNCTION ABOVE TO ALSO USE THE SUBSTITION VALUES FOR MATCH AND MISMATCH\n",
    "\n",
    "def get_alignment_score(seq1_align, seq2_align, match_val, mismatch_val, gap_open, gap_extend, mtype=\"c\", subdict={}):\n",
    "    prev_label_seq1=None\n",
    "    prev_label_seq2=None\n",
    "    alignment_score=0\n",
    "    alignment_print=[]\n",
    "    for s1, s2 in zip(seq1_align, seq2_align):\n",
    "        # if (mtype==\"c\"):\n",
    "        if (s1!=\"-\" and s2!=\"-\"):\n",
    "            if (s1==s2):\n",
    "                # alignment_score+=match_val\n",
    "                alignment_score+=subdict[(s1,s2)]\n",
    "                alignment_print.append(\"|\")\n",
    "            else:\n",
    "                # alignment_score+=mismatch_val\n",
    "                alignment_score+=subdict[(s1,s2)]\n",
    "                alignment_print.append(\"·\")\n",
    "\n",
    "            # ADDED TO RESET GAP LABEL\n",
    "            prev_label_seq1=None\n",
    "            prev_label_seq2=None\n",
    "\n",
    "        else:\n",
    "            if (s1==\"-\"):\n",
    "                if (prev_label_seq1!=\"gap\"):\n",
    "                    alignment_score+=gap_open+gap_extend\n",
    "                    prev_label_seq1=\"gap\"\n",
    "                else:\n",
    "                    alignment_score+=gap_extend\n",
    "            if (s2==\"-\"):\n",
    "                if (prev_label_seq2!=\"gap\"):\n",
    "                    alignment_score+=gap_open+gap_extend\n",
    "                    prev_label_seq2=\"gap\"\n",
    "                else:\n",
    "                    alignment_score+=gap_extend\n",
    "            alignment_print.append(\" \")\n",
    "        # else:\n",
    "\n",
    "\n",
    "    return alignment_score, alignment_print"
   ]
  },
  {
   "cell_type": "code",
   "execution_count": 291,
   "metadata": {},
   "outputs": [],
   "source": [
    "def print_alignment(seq1_align, seq2_align, alignment_print):\n",
    "    print(''.join(seq1_align))\n",
    "    print(''.join(alignment_print))\n",
    "    print(''.join(seq2_align))"
   ]
  },
  {
   "cell_type": "code",
   "execution_count": 292,
   "metadata": {},
   "outputs": [
    {
     "name": "stdout",
     "output_type": "stream",
     "text": [
      "Starting position:  (3, 4)\n",
      "(3, 4)\n",
      "(2, 3)\n",
      "(1, 2)\n",
      "(1, 1)\n",
      "(0, 0)\n"
     ]
    }
   ],
   "source": [
    "# starting positions are the current positions (bottom right corner) - pos variable is changed while start_pos is our record of the starting position\n",
    "start_pos=(len(seq2), len(seq1)) # -> curr_i=len(seq2), curr_j=len(seq1)\n",
    "pos=start_pos\n",
    "print(\"Starting position: \", start_pos)\n",
    "\n",
    "# alignment lists for sequences (they should be matching in length so we can draw 1 to 1 alignments)\n",
    "seq1_align=[]\n",
    "seq2_align=[]\n",
    "update_vectors={\"M\":(-1,-1), \"Ix\":(-1,0), \"Iy\":(0,-1)} # where M -> go up left, Ix -> go up, Iy -> left\n",
    "\n",
    "# method=\"highroad\" \n",
    "method=\"lowroad\"\n",
    "\n",
    "# backtrace using the highroad method\n",
    "# while (sum(pos)!=0):\n",
    "while (pos[0]>0 and pos[1]>0):\n",
    "    print(pos)\n",
    "    max_key_list=get_next_move(align_matrix, gapA_matrix, gapB_matrix, pos[0], pos[1])\n",
    "\n",
    "    # in the case of ties - for the highroad method, we prefer M; for the lowroad method, we prefer gaps\n",
    "    if len(max_key_list)>1:\n",
    "        if (method==\"highroad\"):\n",
    "            max_key=max_key_list[0]\n",
    "        if (method==\"lowroad\"):\n",
    "            max_key=max_key_list[1]\n",
    "    else:\n",
    "        max_key=max_key_list[0]\n",
    "\n",
    "    update_vector=update_vectors[max_key]\n",
    "\n",
    "    pos=tuple(map(sum,zip(pos,update_vector)))\n",
    "    # print(seq2[pos[0]], seq1[pos[1]])\n",
    "    if (max_key==\"M\"):\n",
    "        seq2_align.append(seq2[pos[0]])\n",
    "        seq1_align.append(seq1[pos[1]])\n",
    "    elif (max_key==\"Ix\"):\n",
    "        seq2_align.append(seq2[pos[0]])\n",
    "        seq1_align.append(\"-\")\n",
    "    elif (max_key==\"Iy\"):\n",
    "        seq1_align.append(seq1[pos[1]])\n",
    "        seq2_align.append(\"-\")\n",
    "        \n",
    "print(pos)\n",
    "\n",
    "# reverse lists\n",
    "seq1_align.reverse()\n",
    "seq2_align.reverse()\n"
   ]
  },
  {
   "cell_type": "code",
   "execution_count": 296,
   "metadata": {},
   "outputs": [
    {
     "name": "stdout",
     "output_type": "stream",
     "text": [
      "(3, 4)\n",
      "(2, 3)\n",
      "(1, 2)\n",
      "(1, 1)\n"
     ]
    },
    {
     "data": {
      "text/plain": [
       "(4.0, 'MYQR', 'M-QR')"
      ]
     },
     "execution_count": 296,
     "metadata": {},
     "output_type": "execute_result"
    }
   ],
   "source": [
    "from align import NeedlemanWunsch, read_fasta\n",
    "nw=NeedlemanWunsch(\"./substitution_matrices/BLOSUM62.mat\", gap_open, gap_extend)\n",
    "nw.align(seq1, seq2)"
   ]
  },
  {
   "cell_type": "code",
   "execution_count": 297,
   "metadata": {},
   "outputs": [
    {
     "name": "stdout",
     "output_type": "stream",
     "text": [
      "4.0\n"
     ]
    }
   ],
   "source": [
    "match_val=1\n",
    "mismatch_val=-1\n",
    "alignment_score, alignment_print=get_alignment_score(seq1_align, seq2_align, match_val, mismatch_val, gap_open, gap_extend, mtype=\"c\", subdict=nw.sub_dict)\n",
    "print(alignment_score)"
   ]
  },
  {
   "cell_type": "code",
   "execution_count": 298,
   "metadata": {},
   "outputs": [
    {
     "name": "stdout",
     "output_type": "stream",
     "text": [
      "MYQR\n",
      "| ||\n",
      "M-QR\n"
     ]
    }
   ],
   "source": [
    "print_alignment(seq1_align, seq2_align, alignment_print)"
   ]
  },
  {
   "cell_type": "code",
   "execution_count": 299,
   "metadata": {},
   "outputs": [
    {
     "name": "stdout",
     "output_type": "stream",
     "text": [
      "MYQR\n",
      "| ||\n",
      "M-QR\n",
      "  Score=-8\n",
      "\n"
     ]
    }
   ],
   "source": [
    "alignments=pairwise2.align.globalms(seq1, seq2, 1, -1, gap_open+gap_extend, gap_extend)\n",
    "print(format_alignment(*alignments[0]))"
   ]
  },
  {
   "cell_type": "code",
   "execution_count": 283,
   "metadata": {},
   "outputs": [
    {
     "name": "stdout",
     "output_type": "stream",
     "text": [
      "(3, 4)\n",
      "(2, 3)\n",
      "(1, 2)\n",
      "(1, 1)\n"
     ]
    },
    {
     "data": {
      "text/plain": [
       "(4.0, 'MYQR', 'M-QR')"
      ]
     },
     "execution_count": 283,
     "metadata": {},
     "output_type": "execute_result"
    }
   ],
   "source": [
    "# testing from implementation\n",
    "# seq1=\"MYQR\"\n",
    "# seq2=\"MQR\"\n",
    "from align import NeedlemanWunsch, read_fasta\n",
    "nw=NeedlemanWunsch(\"./substitution_matrices/BLOSUM62.mat\", gap_open, gap_extend)\n",
    "nw.align(seq1, seq2)"
   ]
  },
  {
   "cell_type": "code",
   "execution_count": 284,
   "metadata": {},
   "outputs": [],
   "source": [
    "mn_alignment=needle.NeedlemanWunsch(seq1, seq2)\n",
    "mn_alignment.align()\n"
   ]
  },
  {
   "cell_type": "code",
   "execution_count": 96,
   "metadata": {},
   "outputs": [
    {
     "data": {
      "text/plain": [
       "array([[-10., -inf, -inf, -inf, -inf, -inf, -inf, -inf, -inf, -inf, -inf],\n",
       "       [-11., -inf, -inf, -inf, -inf, -inf, -inf, -inf, -inf, -inf, -inf],\n",
       "       [-12., -10., -23., -24., -25., -26., -27., -28., -29., -30., -31.],\n",
       "       [-13., -11., -11., -22., -23., -22., -25., -26., -27., -28., -29.],\n",
       "       [-14., -12., -12., -12., -23., -23., -21., -26., -27., -28., -29.],\n",
       "       [-15., -13., -13., -13., -13., -24., -22., -20., -27., -28., -29.],\n",
       "       [-16., -14., -14., -14., -14., -14., -23., -21., -19., -26., -29.],\n",
       "       [-17., -15., -15., -15., -15., -15., -15., -22., -20., -20., -27.]])"
      ]
     },
     "execution_count": 96,
     "metadata": {},
     "output_type": "execute_result"
    }
   ],
   "source": [
    "gapA_matrix"
   ]
  },
  {
   "cell_type": "code",
   "execution_count": 105,
   "metadata": {},
   "outputs": [
    {
     "data": {
      "text/plain": [
       "['M', 'A', 'V', 'H', 'Q', 'L', 'I', 'R', 'R', 'P']"
      ]
     },
     "execution_count": 105,
     "metadata": {},
     "output_type": "execute_result"
    }
   ],
   "source": [
    "# nmmat=np.array(mn_alignment._nmatrix)\n",
    "# nmmat.shape\n",
    "mn_alignment._alseq1"
   ]
  },
  {
   "cell_type": "code",
   "execution_count": 86,
   "metadata": {},
   "outputs": [],
   "source": [
    "mn_alignment.change_matrix(core.ScoreMatrix(match=1, miss=-1, gap=-10))\n",
    "\n"
   ]
  },
  {
   "cell_type": "code",
   "execution_count": 87,
   "metadata": {},
   "outputs": [
    {
     "data": {
      "text/plain": [
       "[[0, -10, -20, -30, -40, -50, -60, -70, -80, -90, -100],\n",
       " [-10, 1, -9, -19, -29, -39, -49, -59, -69, -79, -89],\n",
       " [-20, -9, 0, -10, -20, -28, -38, -48, -58, -68, -78],\n",
       " [-30, -19, -10, -1, -11, -21, -27, -37, -47, -57, -67],\n",
       " [-40, -29, -20, -11, -2, -12, -22, -26, -36, -46, -56],\n",
       " [-50, -39, -30, -21, -12, -3, -13, -23, -25, -35, -45],\n",
       " [-60, -49, -40, -31, -20, -13, -4, -14, -24, -26, -36],\n",
       " [-70, -59, -50, -41, -30, -21, -14, -5, -15, -25, -25]]"
      ]
     },
     "execution_count": 87,
     "metadata": {},
     "output_type": "execute_result"
    }
   ],
   "source": [
    "mn_alignment.get_almatrix()"
   ]
  },
  {
   "cell_type": "code",
   "execution_count": null,
   "metadata": {},
   "outputs": [],
   "source": []
  },
  {
   "cell_type": "code",
   "execution_count": null,
   "metadata": {},
   "outputs": [],
   "source": []
  },
  {
   "cell_type": "code",
   "execution_count": 73,
   "metadata": {},
   "outputs": [
    {
     "data": {
      "text/plain": [
       "array([[  0., -inf, -inf, -inf, -inf, -inf, -inf, -inf, -inf, -inf, -inf],\n",
       "       [-inf,   1., -12., -13., -14., -15., -16., -17., -18., -19., -20.],\n",
       "       [-inf, -12.,   0., -11., -12., -11., -14., -15., -16., -17., -18.],\n",
       "       [-inf, -13., -11.,  -1., -12., -13., -10., -15., -16., -17., -18.],\n",
       "       [-inf, -14., -12., -12.,  -2., -13., -14.,  -9., -16., -17., -18.],\n",
       "       [-inf, -15., -13., -13., -13.,  -3., -14., -15.,  -8., -15., -18.],\n",
       "       [-inf, -16., -14., -14., -12., -14.,  -4., -15., -16.,  -9., -16.],\n",
       "       [-inf, -17., -15., -15., -15., -13., -15.,  -5., -16., -17.,  -8.]])"
      ]
     },
     "execution_count": 73,
     "metadata": {},
     "output_type": "execute_result"
    }
   ],
   "source": [
    "nw._align_matrix"
   ]
  },
  {
   "cell_type": "code",
   "execution_count": 137,
   "metadata": {},
   "outputs": [],
   "source": [
    "from Bio.Align import substitution_matrices\n",
    "aligner = Bio.Align.PairwiseAligner()\n",
    "aligner.open_gap_score = gap_open+gap_extend\n",
    "aligner.extend_gap_score = gap_extend\n",
    "aligner.substitution_matrix = substitution_matrices.load(\"BLOSUM62\")\n",
    "alignments = aligner.align(seq1, seq2)\n",
    "alignments = list(alignments)\n",
    "alignment=alignments[0]\n"
   ]
  },
  {
   "cell_type": "code",
   "execution_count": 151,
   "metadata": {},
   "outputs": [
    {
     "data": {
      "text/plain": [
       "'MQLIRHP'"
      ]
     },
     "execution_count": 151,
     "metadata": {},
     "output_type": "execute_result"
    }
   ],
   "source": [
    "alignment"
   ]
  },
  {
   "cell_type": "code",
   "execution_count": 136,
   "metadata": {},
   "outputs": [
    {
     "data": {
      "text/plain": [
       "<Alignment object (2 rows x 10 columns) at 0x1fe28162890>"
      ]
     },
     "execution_count": 136,
     "metadata": {},
     "output_type": "execute_result"
    }
   ],
   "source": [
    "alignments[0]"
   ]
  },
  {
   "cell_type": "code",
   "execution_count": 123,
   "metadata": {},
   "outputs": [
    {
     "name": "stdout",
     "output_type": "stream",
     "text": [
      "MAVHQLIRRP\n",
      "|   ||||.|\n",
      "M---QLIRHP\n",
      "  Score=17\n",
      "\n"
     ]
    }
   ],
   "source": [
    "for a in pairwise2.align.globalds(seq1, seq2, nw.sub_dict, gap_open+gap_extend, gap_extend):\n",
    "    print(format_alignment(*a))\n",
    "# pairwise2.align.globalds?"
   ]
  },
  {
   "cell_type": "code",
   "execution_count": 50,
   "metadata": {},
   "outputs": [],
   "source": [
    "alignments=pairwise2.align.globalds(seq1, seq2, nw.sub_dict, gap_open+gap_extend, gap_extend)"
   ]
  },
  {
   "cell_type": "code",
   "execution_count": 74,
   "metadata": {},
   "outputs": [],
   "source": [
    "# Bio.pairwise2.print_matrix(substitution_matrix)"
   ]
  },
  {
   "cell_type": "code",
   "execution_count": null,
   "metadata": {},
   "outputs": [],
   "source": [
    "alignments=pairwise2.align.globalms(seq1, seq2, 1, -1, gap_open+gap_extend, gap_extend)\n",
    "print(format_alignment(*alignments[0]))"
   ]
  },
  {
   "cell_type": "code",
   "execution_count": 59,
   "metadata": {},
   "outputs": [
    {
     "data": {
      "text/plain": [
       "array([[  0., -inf, -inf, -inf, -inf],\n",
       "       [-inf,   1., -12., -13., -14.],\n",
       "       [-inf, -12.,   0.,  -9., -12.],\n",
       "       [-inf, -13., -11.,  -1.,  -8.]])"
      ]
     },
     "execution_count": 59,
     "metadata": {},
     "output_type": "execute_result"
    }
   ],
   "source": [
    "nw._align_matrix"
   ]
  },
  {
   "cell_type": "code",
   "execution_count": null,
   "metadata": {},
   "outputs": [],
   "source": []
  }
 ],
 "metadata": {
  "kernelspec": {
   "display_name": "Python 3",
   "language": "python",
   "name": "python3"
  },
  "language_info": {
   "codemirror_mode": {
    "name": "ipython",
    "version": 3
   },
   "file_extension": ".py",
   "mimetype": "text/x-python",
   "name": "python",
   "nbconvert_exporter": "python",
   "pygments_lexer": "ipython3",
   "version": "3.10.1"
  }
 },
 "nbformat": 4,
 "nbformat_minor": 2
}
